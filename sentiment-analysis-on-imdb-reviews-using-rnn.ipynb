{
 "cells": [
  {
   "cell_type": "markdown",
   "id": "ef25f8c3",
   "metadata": {
    "papermill": {
     "duration": 0.004978,
     "end_time": "2025-09-26T12:18:28.773273",
     "exception": false,
     "start_time": "2025-09-26T12:18:28.768295",
     "status": "completed"
    },
    "tags": []
   },
   "source": [
    "# 📚 **Importing Required Libraries**"
   ]
  },
  {
   "cell_type": "code",
   "execution_count": 1,
   "id": "67a387c8",
   "metadata": {
    "execution": {
     "iopub.execute_input": "2025-09-26T12:18:28.782050Z",
     "iopub.status.busy": "2025-09-26T12:18:28.781664Z",
     "iopub.status.idle": "2025-09-26T12:18:51.646072Z",
     "shell.execute_reply": "2025-09-26T12:18:51.645277Z"
    },
    "id": "Jl8fx-nZtdYv",
    "papermill": {
     "duration": 22.870783,
     "end_time": "2025-09-26T12:18:51.647847",
     "exception": false,
     "start_time": "2025-09-26T12:18:28.777064",
     "status": "completed"
    },
    "tags": []
   },
   "outputs": [
    {
     "name": "stderr",
     "output_type": "stream",
     "text": [
      "2025-09-26 12:18:31.103309: E external/local_xla/xla/stream_executor/cuda/cuda_fft.cc:477] Unable to register cuFFT factory: Attempting to register factory for plugin cuFFT when one has already been registered\n",
      "WARNING: All log messages before absl::InitializeLog() is called are written to STDERR\n",
      "E0000 00:00:1758889111.411796      13 cuda_dnn.cc:8310] Unable to register cuDNN factory: Attempting to register factory for plugin cuDNN when one has already been registered\n",
      "E0000 00:00:1758889111.500864      13 cuda_blas.cc:1418] Unable to register cuBLAS factory: Attempting to register factory for plugin cuBLAS when one has already been registered\n"
     ]
    }
   ],
   "source": [
    "import tensorflow as tf\n",
    "from tensorflow.keras.datasets import imdb\n",
    "from tensorflow.keras.preprocessing.sequence import pad_sequences\n",
    "from tensorflow.keras.models import Sequential\n",
    "from tensorflow.keras.layers import Embedding, SimpleRNN, Dense, Dropout\n",
    "from tensorflow.keras.optimizers import Adam\n",
    "import numpy as np\n",
    "import matplotlib.pyplot as plt\n",
    "from sklearn.metrics import classification_report, confusion_matrix\n",
    "import seaborn as sns"
   ]
  },
  {
   "cell_type": "markdown",
   "id": "2f2b394e",
   "metadata": {
    "papermill": {
     "duration": 0.00371,
     "end_time": "2025-09-26T12:18:51.655990",
     "exception": false,
     "start_time": "2025-09-26T12:18:51.652280",
     "status": "completed"
    },
    "tags": []
   },
   "source": [
    "# ⚙️ Configuration and Reproducibility Settings"
   ]
  },
  {
   "cell_type": "code",
   "execution_count": 2,
   "id": "c39bbfa3",
   "metadata": {
    "execution": {
     "iopub.execute_input": "2025-09-26T12:18:51.665434Z",
     "iopub.status.busy": "2025-09-26T12:18:51.664518Z",
     "iopub.status.idle": "2025-09-26T12:18:51.670392Z",
     "shell.execute_reply": "2025-09-26T12:18:51.669719Z"
    },
    "id": "7MUchhagtgrt",
    "papermill": {
     "duration": 0.01187,
     "end_time": "2025-09-26T12:18:51.671698",
     "exception": false,
     "start_time": "2025-09-26T12:18:51.659828",
     "status": "completed"
    },
    "tags": []
   },
   "outputs": [],
   "source": [
    "# Set random seeds for reproducibility\n",
    "tf.random.set_seed(42)\n",
    "np.random.seed(42)\n",
    "\n",
    "# Configuration parameters\n",
    "VOCAB_SIZE = 10000\n",
    "MAX_LENGTH = 500\n",
    "EMBEDDING_DIM = 128\n",
    "RNN_UNITS = 64\n",
    "EPOCHS = 10\n",
    "BATCH_SIZE = 32"
   ]
  },
  {
   "cell_type": "markdown",
   "id": "345fdc73",
   "metadata": {
    "papermill": {
     "duration": 0.003569,
     "end_time": "2025-09-26T12:18:51.679318",
     "exception": false,
     "start_time": "2025-09-26T12:18:51.675749",
     "status": "completed"
    },
    "tags": []
   },
   "source": [
    "# 📥 Load and Preprocess IMDB Dataset"
   ]
  },
  {
   "cell_type": "code",
   "execution_count": 3,
   "id": "7aad654c",
   "metadata": {
    "execution": {
     "iopub.execute_input": "2025-09-26T12:18:51.688043Z",
     "iopub.status.busy": "2025-09-26T12:18:51.687763Z",
     "iopub.status.idle": "2025-09-26T12:18:51.695097Z",
     "shell.execute_reply": "2025-09-26T12:18:51.694378Z"
    },
    "id": "vzZ2p9WytoYm",
    "papermill": {
     "duration": 0.013647,
     "end_time": "2025-09-26T12:18:51.696717",
     "exception": false,
     "start_time": "2025-09-26T12:18:51.683070",
     "status": "completed"
    },
    "tags": []
   },
   "outputs": [],
   "source": [
    "def load_and_preprocess_data():\n",
    "    \"\"\"Load and preprocess the IMDB dataset\"\"\"\n",
    "    print(\"Loading IMDB dataset...\")\n",
    "\n",
    "    # Load the dataset\n",
    "    (X_train, y_train), (X_test, y_test) = imdb.load_data(\n",
    "        num_words=VOCAB_SIZE,\n",
    "        start_char=1,\n",
    "        oov_char=2,\n",
    "        index_from=3\n",
    "    )\n",
    "\n",
    "    # Get word index for later use\n",
    "    word_index = imdb.get_word_index()\n",
    "\n",
    "    # Add padding tokens and special characters\n",
    "    word_index = {k:(v+3) for k,v in word_index.items()}\n",
    "    word_index[\"<PAD>\"] = 0\n",
    "    word_index[\"<START>\"] = 1\n",
    "    word_index[\"<UNK>\"] = 2\n",
    "    word_index[\"<UNUSED>\"] = 3\n",
    "\n",
    "    # Create reverse word index\n",
    "    reverse_word_index = dict([(value, key) for (key, value) in word_index.items()])\n",
    "\n",
    "    # Pad sequences to have the same length\n",
    "    X_train = pad_sequences(X_train, maxlen=MAX_LENGTH)\n",
    "    X_test = pad_sequences(X_test, maxlen=MAX_LENGTH)\n",
    "\n",
    "    print(f\"Training data shape: {X_train.shape}\")\n",
    "    print(f\"Test data shape: {X_test.shape}\")\n",
    "    print(f\"Training labels shape: {y_train.shape}\")\n",
    "    print(f\"Test labels shape: {y_test.shape}\")\n",
    "\n",
    "    return X_train, y_train, X_test, y_test, word_index, reverse_word_index\n"
   ]
  },
  {
   "cell_type": "markdown",
   "id": "b61d8a8d",
   "metadata": {
    "papermill": {
     "duration": 0.00356,
     "end_time": "2025-09-26T12:18:51.704177",
     "exception": false,
     "start_time": "2025-09-26T12:18:51.700617",
     "status": "completed"
    },
    "tags": []
   },
   "source": [
    "# 🏗️ Build RNN Model"
   ]
  },
  {
   "cell_type": "code",
   "execution_count": 4,
   "id": "bef300ee",
   "metadata": {
    "execution": {
     "iopub.execute_input": "2025-09-26T12:18:51.713188Z",
     "iopub.status.busy": "2025-09-26T12:18:51.712849Z",
     "iopub.status.idle": "2025-09-26T12:18:51.718830Z",
     "shell.execute_reply": "2025-09-26T12:18:51.718073Z"
    },
    "id": "x5c9IXwItuHF",
    "papermill": {
     "duration": 0.012537,
     "end_time": "2025-09-26T12:18:51.720355",
     "exception": false,
     "start_time": "2025-09-26T12:18:51.707818",
     "status": "completed"
    },
    "tags": []
   },
   "outputs": [],
   "source": [
    "def build_rnn_model():\n",
    "    \"\"\"Build the RNN model\"\"\"\n",
    "    print(\"Building RNN model...\")\n",
    "\n",
    "    model = Sequential([\n",
    "        # Embedding layer\n",
    "        Embedding(\n",
    "            input_dim=VOCAB_SIZE,\n",
    "            output_dim=EMBEDDING_DIM,\n",
    "            input_length=MAX_LENGTH,\n",
    "            name='embedding'\n",
    "        ),\n",
    "\n",
    "        # RNN layer\n",
    "        SimpleRNN(\n",
    "            units=RNN_UNITS,\n",
    "            dropout=0.2,\n",
    "            recurrent_dropout=0.2,\n",
    "            name='rnn'\n",
    "        ),\n",
    "\n",
    "        # Dropout for regularization\n",
    "        Dropout(0.5, name='dropout'),\n",
    "\n",
    "        # Output layer\n",
    "        Dense(1, activation='sigmoid', name='output')\n",
    "    ])\n",
    "\n",
    "    # Compile the model\n",
    "    model.compile(\n",
    "        optimizer=Adam(learning_rate=0.001),\n",
    "        loss='binary_crossentropy',\n",
    "        metrics=['accuracy']\n",
    "    )\n",
    "\n",
    "    # Print model summary\n",
    "    print(\"\\nModel Architecture:\")\n",
    "    model.summary()\n",
    "\n",
    "    return model"
   ]
  },
  {
   "cell_type": "markdown",
   "id": "195d077c",
   "metadata": {
    "papermill": {
     "duration": 0.00351,
     "end_time": "2025-09-26T12:18:51.728854",
     "exception": false,
     "start_time": "2025-09-26T12:18:51.725344",
     "status": "completed"
    },
    "tags": []
   },
   "source": [
    "# 🚀 Train the RNN Model\n"
   ]
  },
  {
   "cell_type": "code",
   "execution_count": 5,
   "id": "e758284e",
   "metadata": {
    "execution": {
     "iopub.execute_input": "2025-09-26T12:18:51.737566Z",
     "iopub.status.busy": "2025-09-26T12:18:51.737251Z",
     "iopub.status.idle": "2025-09-26T12:18:51.742842Z",
     "shell.execute_reply": "2025-09-26T12:18:51.741930Z"
    },
    "id": "x3y3GxXlt1sw",
    "papermill": {
     "duration": 0.01208,
     "end_time": "2025-09-26T12:18:51.744640",
     "exception": false,
     "start_time": "2025-09-26T12:18:51.732560",
     "status": "completed"
    },
    "tags": []
   },
   "outputs": [],
   "source": [
    "def train_model(model, X_train, y_train, X_test, y_test):\n",
    "    \"\"\"Train the RNN model\"\"\"\n",
    "    print(f\"\\nTraining model for {EPOCHS} epochs...\")\n",
    "\n",
    "    # Define callbacks\n",
    "    early_stopping = tf.keras.callbacks.EarlyStopping(\n",
    "        monitor='val_loss',\n",
    "        patience=3,\n",
    "        restore_best_weights=True\n",
    "    )\n",
    "\n",
    "    # Train the model\n",
    "    history = model.fit(\n",
    "        X_train, y_train,\n",
    "        batch_size=BATCH_SIZE,\n",
    "        epochs=EPOCHS,\n",
    "        validation_data=(X_test, y_test),\n",
    "        callbacks=[early_stopping],\n",
    "        verbose=1\n",
    "    )\n",
    "\n",
    "    return history"
   ]
  },
  {
   "cell_type": "markdown",
   "id": "8be2b724",
   "metadata": {
    "papermill": {
     "duration": 0.0038,
     "end_time": "2025-09-26T12:18:51.752650",
     "exception": false,
     "start_time": "2025-09-26T12:18:51.748850",
     "status": "completed"
    },
    "tags": []
   },
   "source": [
    "# 📊 Evaluate the Trained Model\n"
   ]
  },
  {
   "cell_type": "code",
   "execution_count": 6,
   "id": "1fa1df90",
   "metadata": {
    "execution": {
     "iopub.execute_input": "2025-09-26T12:18:51.762144Z",
     "iopub.status.busy": "2025-09-26T12:18:51.761509Z",
     "iopub.status.idle": "2025-09-26T12:18:51.767340Z",
     "shell.execute_reply": "2025-09-26T12:18:51.766409Z"
    },
    "id": "Sjz8-naRt6X4",
    "papermill": {
     "duration": 0.012062,
     "end_time": "2025-09-26T12:18:51.768788",
     "exception": false,
     "start_time": "2025-09-26T12:18:51.756726",
     "status": "completed"
    },
    "tags": []
   },
   "outputs": [],
   "source": [
    "def evaluate_model(model, X_test, y_test):\n",
    "    \"\"\"Evaluate the trained model\"\"\"\n",
    "    print(\"\\nEvaluating model...\")\n",
    "\n",
    "    # Get predictions\n",
    "    predictions = model.predict(X_test)\n",
    "    predicted_labels = (predictions > 0.5).astype(int).flatten()\n",
    "\n",
    "    # Calculate accuracy\n",
    "    test_loss, test_accuracy = model.evaluate(X_test, y_test, verbose=0)\n",
    "    print(f\"Test Loss: {test_loss:.4f}\")\n",
    "    print(f\"Test Accuracy: {test_accuracy:.4f}\")\n",
    "\n",
    "    # Classification report\n",
    "    print(\"\\nClassification Report:\")\n",
    "    print(classification_report(y_test, predicted_labels,\n",
    "                              target_names=['Negative', 'Positive']))\n",
    "\n",
    "    return predictions, predicted_labels\n"
   ]
  },
  {
   "cell_type": "markdown",
   "id": "fa3538d9",
   "metadata": {
    "papermill": {
     "duration": 0.003699,
     "end_time": "2025-09-26T12:18:51.776545",
     "exception": false,
     "start_time": "2025-09-26T12:18:51.772846",
     "status": "completed"
    },
    "tags": []
   },
   "source": [
    "# 📈 Plot Training History (Accuracy & Loss Curves)\n"
   ]
  },
  {
   "cell_type": "code",
   "execution_count": 7,
   "id": "fc43cfbc",
   "metadata": {
    "execution": {
     "iopub.execute_input": "2025-09-26T12:18:51.785663Z",
     "iopub.status.busy": "2025-09-26T12:18:51.785344Z",
     "iopub.status.idle": "2025-09-26T12:18:51.791806Z",
     "shell.execute_reply": "2025-09-26T12:18:51.790997Z"
    },
    "id": "M131c_LAt_z1",
    "papermill": {
     "duration": 0.012744,
     "end_time": "2025-09-26T12:18:51.793166",
     "exception": false,
     "start_time": "2025-09-26T12:18:51.780422",
     "status": "completed"
    },
    "tags": []
   },
   "outputs": [],
   "source": [
    "def plot_training_history(history):\n",
    "    \"\"\"Plot training history\"\"\"\n",
    "    fig, (ax1, ax2) = plt.subplots(1, 2, figsize=(12, 4))\n",
    "\n",
    "    # Plot accuracy\n",
    "    ax1.plot(history.history['accuracy'], label='Training Accuracy')\n",
    "    ax1.plot(history.history['val_accuracy'], label='Validation Accuracy')\n",
    "    ax1.set_title('Model Accuracy')\n",
    "    ax1.set_xlabel('Epoch')\n",
    "    ax1.set_ylabel('Accuracy')\n",
    "    ax1.legend()\n",
    "    ax1.grid(True)\n",
    "\n",
    "    # Plot loss\n",
    "    ax2.plot(history.history['loss'], label='Training Loss')\n",
    "    ax2.plot(history.history['val_loss'], label='Validation Loss')\n",
    "    ax2.set_title('Model Loss')\n",
    "    ax2.set_xlabel('Epoch')\n",
    "    ax2.set_ylabel('Loss')\n",
    "    ax2.legend()\n",
    "    ax2.grid(True)\n",
    "\n",
    "    plt.tight_layout()\n",
    "    plt.show()"
   ]
  },
  {
   "cell_type": "markdown",
   "id": "efee7473",
   "metadata": {
    "papermill": {
     "duration": 0.003661,
     "end_time": "2025-09-26T12:18:51.800943",
     "exception": false,
     "start_time": "2025-09-26T12:18:51.797282",
     "status": "completed"
    },
    "tags": []
   },
   "source": [
    "# 🔍 Plot Confusion Matrix\n"
   ]
  },
  {
   "cell_type": "code",
   "execution_count": 8,
   "id": "dc75c71e",
   "metadata": {
    "execution": {
     "iopub.execute_input": "2025-09-26T12:18:51.810157Z",
     "iopub.status.busy": "2025-09-26T12:18:51.809616Z",
     "iopub.status.idle": "2025-09-26T12:18:51.814528Z",
     "shell.execute_reply": "2025-09-26T12:18:51.813844Z"
    },
    "id": "RhqcBp-HuGa8",
    "papermill": {
     "duration": 0.011181,
     "end_time": "2025-09-26T12:18:51.815976",
     "exception": false,
     "start_time": "2025-09-26T12:18:51.804795",
     "status": "completed"
    },
    "tags": []
   },
   "outputs": [],
   "source": [
    "def plot_confusion_matrix(y_true, y_pred):\n",
    "    \"\"\"Plot confusion matrix\"\"\"\n",
    "    cm = confusion_matrix(y_true, y_pred)\n",
    "\n",
    "    plt.figure(figsize=(8, 6))\n",
    "    sns.heatmap(cm, annot=True, fmt='d', cmap='Blues',\n",
    "               xticklabels=['Negative', 'Positive'],\n",
    "               yticklabels=['Negative', 'Positive'])\n",
    "    plt.title('Confusion Matrix')\n",
    "    plt.xlabel('Predicted Label')\n",
    "    plt.ylabel('True Label')\n",
    "    plt.show()\n"
   ]
  },
  {
   "cell_type": "markdown",
   "id": "56b0f938",
   "metadata": {
    "papermill": {
     "duration": 0.0038,
     "end_time": "2025-09-26T12:18:51.824007",
     "exception": false,
     "start_time": "2025-09-26T12:18:51.820207",
     "status": "completed"
    },
    "tags": []
   },
   "source": [
    "# 📝 Decode Encoded Review to Text\n"
   ]
  },
  {
   "cell_type": "code",
   "execution_count": 9,
   "id": "a9ac5292",
   "metadata": {
    "execution": {
     "iopub.execute_input": "2025-09-26T12:18:51.834206Z",
     "iopub.status.busy": "2025-09-26T12:18:51.833224Z",
     "iopub.status.idle": "2025-09-26T12:18:51.838118Z",
     "shell.execute_reply": "2025-09-26T12:18:51.837298Z"
    },
    "id": "P5_hkzKKuKQu",
    "papermill": {
     "duration": 0.011434,
     "end_time": "2025-09-26T12:18:51.839583",
     "exception": false,
     "start_time": "2025-09-26T12:18:51.828149",
     "status": "completed"
    },
    "tags": []
   },
   "outputs": [],
   "source": [
    "\n",
    "def decode_review(text, reverse_word_index):\n",
    "    \"\"\"Convert encoded review back to text\"\"\"\n",
    "    return ' '.join([reverse_word_index.get(i, '<UNK>') for i in text])"
   ]
  },
  {
   "cell_type": "markdown",
   "id": "ec513789",
   "metadata": {
    "papermill": {
     "duration": 0.003875,
     "end_time": "2025-09-26T12:18:51.847516",
     "exception": false,
     "start_time": "2025-09-26T12:18:51.843641",
     "status": "completed"
    },
    "tags": []
   },
   "source": [
    "# 🔮 Predict Sentiment for a New Review"
   ]
  },
  {
   "cell_type": "code",
   "execution_count": 10,
   "id": "0516001c",
   "metadata": {
    "execution": {
     "iopub.execute_input": "2025-09-26T12:18:51.856635Z",
     "iopub.status.busy": "2025-09-26T12:18:51.856252Z",
     "iopub.status.idle": "2025-09-26T12:18:51.862497Z",
     "shell.execute_reply": "2025-09-26T12:18:51.861747Z"
    },
    "id": "CCxaRwCmuRE-",
    "papermill": {
     "duration": 0.012649,
     "end_time": "2025-09-26T12:18:51.864078",
     "exception": false,
     "start_time": "2025-09-26T12:18:51.851429",
     "status": "completed"
    },
    "tags": []
   },
   "outputs": [],
   "source": [
    "def predict_sentiment(model, review_text, word_index):\n",
    "    \"\"\"Predict sentiment for a new review\"\"\"\n",
    "    # Tokenize and encode the review\n",
    "    words = review_text.lower().split()\n",
    "    encoded_review = []\n",
    "\n",
    "    for word in words:\n",
    "        if word in word_index and word_index[word] < VOCAB_SIZE:\n",
    "            encoded_review.append(word_index[word])\n",
    "        else:\n",
    "            encoded_review.append(2)  # UNK token\n",
    "\n",
    "    # Pad the sequence\n",
    "    padded_review = pad_sequences([encoded_review], maxlen=MAX_LENGTH)\n",
    "\n",
    "    # Make prediction\n",
    "    prediction = model.predict(padded_review)[0][0]\n",
    "    sentiment = \"Positive\" if prediction > 0.5 else \"Negative\"\n",
    "    confidence = prediction if prediction > 0.5 else 1 - prediction\n",
    "\n",
    "    return sentiment, confidence, prediction"
   ]
  },
  {
   "cell_type": "markdown",
   "id": "fb923f4d",
   "metadata": {
    "papermill": {
     "duration": 0.00394,
     "end_time": "2025-09-26T12:18:51.872338",
     "exception": false,
     "start_time": "2025-09-26T12:18:51.868398",
     "status": "completed"
    },
    "tags": []
   },
   "source": [
    "# 🎯 Show Sample Predictions from Test Set\n"
   ]
  },
  {
   "cell_type": "code",
   "execution_count": 11,
   "id": "cc6fd9eb",
   "metadata": {
    "execution": {
     "iopub.execute_input": "2025-09-26T12:18:51.881651Z",
     "iopub.status.busy": "2025-09-26T12:18:51.881346Z",
     "iopub.status.idle": "2025-09-26T12:18:51.887626Z",
     "shell.execute_reply": "2025-09-26T12:18:51.886892Z"
    },
    "id": "oQRGByXmuY1u",
    "papermill": {
     "duration": 0.01265,
     "end_time": "2025-09-26T12:18:51.889079",
     "exception": false,
     "start_time": "2025-09-26T12:18:51.876429",
     "status": "completed"
    },
    "tags": []
   },
   "outputs": [],
   "source": [
    "def show_sample_predictions(model, X_test, y_test, reverse_word_index, word_index, n_samples=5):\n",
    "    \"\"\"Show predictions on sample reviews from test set\"\"\"\n",
    "    print(\"\\n\" + \"=\"*50)\n",
    "    print(\"SAMPLE PREDICTIONS\")\n",
    "    print(\"=\"*50)\n",
    "\n",
    "    # Sample reviews from test set\n",
    "    sample_indices = np.random.choice(len(X_test), n_samples, replace=False)\n",
    "\n",
    "    for i, idx in enumerate(sample_indices):\n",
    "        review = decode_review(X_test[idx], reverse_word_index)\n",
    "        true_label = \"Positive\" if y_test[idx] == 1 else \"Negative\"\n",
    "        pred_sentiment, confidence, pred_score = predict_sentiment(model, review, word_index)\n",
    "\n",
    "        print(f\"\\nSample {i+1}:\")\n",
    "        print(f\"Review: {review[:200]}...\")\n",
    "        print(f\"True Label: {true_label}\")\n",
    "        print(f\"Predicted: {pred_sentiment} (Confidence: {confidence:.3f})\")\n",
    "        print(f\"Prediction Score: {pred_score:.3f}\")\n",
    "        print(\"-\" * 50)\n",
    "\n"
   ]
  },
  {
   "cell_type": "markdown",
   "id": "53226bed",
   "metadata": {
    "papermill": {
     "duration": 0.003973,
     "end_time": "2025-09-26T12:18:51.897499",
     "exception": false,
     "start_time": "2025-09-26T12:18:51.893526",
     "status": "completed"
    },
    "tags": []
   },
   "source": [
    "# 🎬 IMDB Sentiment Analysis with RNN - Main Execution\n"
   ]
  },
  {
   "cell_type": "code",
   "execution_count": 12,
   "id": "fda6817f",
   "metadata": {
    "execution": {
     "iopub.execute_input": "2025-09-26T12:18:51.906807Z",
     "iopub.status.busy": "2025-09-26T12:18:51.906455Z",
     "iopub.status.idle": "2025-09-26T12:44:04.517779Z",
     "shell.execute_reply": "2025-09-26T12:44:04.516847Z"
    },
    "id": "GNjOLAxlYweT",
    "outputId": "7dc8b3ba-8f4e-4497-b1b1-b0b9f0d81c76",
    "papermill": {
     "duration": 1512.617858,
     "end_time": "2025-09-26T12:44:04.519340",
     "exception": false,
     "start_time": "2025-09-26T12:18:51.901482",
     "status": "completed"
    },
    "tags": []
   },
   "outputs": [
    {
     "name": "stdout",
     "output_type": "stream",
     "text": [
      "IMDB Sentiment Analysis with RNN\n",
      "==================================================\n",
      "Loading IMDB dataset...\n",
      "Downloading data from https://storage.googleapis.com/tensorflow/tf-keras-datasets/imdb.npz\n",
      "\u001b[1m17464789/17464789\u001b[0m \u001b[32m━━━━━━━━━━━━━━━━━━━━\u001b[0m\u001b[37m\u001b[0m \u001b[1m0s\u001b[0m 0us/step\n",
      "Downloading data from https://storage.googleapis.com/tensorflow/tf-keras-datasets/imdb_word_index.json\n",
      "\u001b[1m1641221/1641221\u001b[0m \u001b[32m━━━━━━━━━━━━━━━━━━━━\u001b[0m\u001b[37m\u001b[0m \u001b[1m0s\u001b[0m 0us/step\n",
      "Training data shape: (25000, 500)\n",
      "Test data shape: (25000, 500)\n",
      "Training labels shape: (25000,)\n",
      "Test labels shape: (25000,)\n",
      "Building RNN model...\n",
      "\n",
      "Model Architecture:\n"
     ]
    },
    {
     "name": "stderr",
     "output_type": "stream",
     "text": [
      "/usr/local/lib/python3.11/dist-packages/keras/src/layers/core/embedding.py:90: UserWarning: Argument `input_length` is deprecated. Just remove it.\n",
      "  warnings.warn(\n",
      "2025-09-26 12:18:57.012538: E external/local_xla/xla/stream_executor/cuda/cuda_driver.cc:152] failed call to cuInit: INTERNAL: CUDA error: Failed call to cuInit: UNKNOWN ERROR (303)\n"
     ]
    },
    {
     "data": {
      "text/html": [
       "<pre style=\"white-space:pre;overflow-x:auto;line-height:normal;font-family:Menlo,'DejaVu Sans Mono',consolas,'Courier New',monospace\"><span style=\"font-weight: bold\">Model: \"sequential\"</span>\n",
       "</pre>\n"
      ],
      "text/plain": [
       "\u001b[1mModel: \"sequential\"\u001b[0m\n"
      ]
     },
     "metadata": {},
     "output_type": "display_data"
    },
    {
     "data": {
      "text/html": [
       "<pre style=\"white-space:pre;overflow-x:auto;line-height:normal;font-family:Menlo,'DejaVu Sans Mono',consolas,'Courier New',monospace\">┏━━━━━━━━━━━━━━━━━━━━━━━━━━━━━━━━━┳━━━━━━━━━━━━━━━━━━━━━━━━┳━━━━━━━━━━━━━━━┓\n",
       "┃<span style=\"font-weight: bold\"> Layer (type)                    </span>┃<span style=\"font-weight: bold\"> Output Shape           </span>┃<span style=\"font-weight: bold\">       Param # </span>┃\n",
       "┡━━━━━━━━━━━━━━━━━━━━━━━━━━━━━━━━━╇━━━━━━━━━━━━━━━━━━━━━━━━╇━━━━━━━━━━━━━━━┩\n",
       "│ embedding (<span style=\"color: #0087ff; text-decoration-color: #0087ff\">Embedding</span>)           │ ?                      │   <span style=\"color: #00af00; text-decoration-color: #00af00\">0</span> (unbuilt) │\n",
       "├─────────────────────────────────┼────────────────────────┼───────────────┤\n",
       "│ rnn (<span style=\"color: #0087ff; text-decoration-color: #0087ff\">SimpleRNN</span>)                 │ ?                      │   <span style=\"color: #00af00; text-decoration-color: #00af00\">0</span> (unbuilt) │\n",
       "├─────────────────────────────────┼────────────────────────┼───────────────┤\n",
       "│ dropout (<span style=\"color: #0087ff; text-decoration-color: #0087ff\">Dropout</span>)               │ ?                      │             <span style=\"color: #00af00; text-decoration-color: #00af00\">0</span> │\n",
       "├─────────────────────────────────┼────────────────────────┼───────────────┤\n",
       "│ output (<span style=\"color: #0087ff; text-decoration-color: #0087ff\">Dense</span>)                  │ ?                      │   <span style=\"color: #00af00; text-decoration-color: #00af00\">0</span> (unbuilt) │\n",
       "└─────────────────────────────────┴────────────────────────┴───────────────┘\n",
       "</pre>\n"
      ],
      "text/plain": [
       "┏━━━━━━━━━━━━━━━━━━━━━━━━━━━━━━━━━┳━━━━━━━━━━━━━━━━━━━━━━━━┳━━━━━━━━━━━━━━━┓\n",
       "┃\u001b[1m \u001b[0m\u001b[1mLayer (type)                   \u001b[0m\u001b[1m \u001b[0m┃\u001b[1m \u001b[0m\u001b[1mOutput Shape          \u001b[0m\u001b[1m \u001b[0m┃\u001b[1m \u001b[0m\u001b[1m      Param #\u001b[0m\u001b[1m \u001b[0m┃\n",
       "┡━━━━━━━━━━━━━━━━━━━━━━━━━━━━━━━━━╇━━━━━━━━━━━━━━━━━━━━━━━━╇━━━━━━━━━━━━━━━┩\n",
       "│ embedding (\u001b[38;5;33mEmbedding\u001b[0m)           │ ?                      │   \u001b[38;5;34m0\u001b[0m (unbuilt) │\n",
       "├─────────────────────────────────┼────────────────────────┼───────────────┤\n",
       "│ rnn (\u001b[38;5;33mSimpleRNN\u001b[0m)                 │ ?                      │   \u001b[38;5;34m0\u001b[0m (unbuilt) │\n",
       "├─────────────────────────────────┼────────────────────────┼───────────────┤\n",
       "│ dropout (\u001b[38;5;33mDropout\u001b[0m)               │ ?                      │             \u001b[38;5;34m0\u001b[0m │\n",
       "├─────────────────────────────────┼────────────────────────┼───────────────┤\n",
       "│ output (\u001b[38;5;33mDense\u001b[0m)                  │ ?                      │   \u001b[38;5;34m0\u001b[0m (unbuilt) │\n",
       "└─────────────────────────────────┴────────────────────────┴───────────────┘\n"
      ]
     },
     "metadata": {},
     "output_type": "display_data"
    },
    {
     "data": {
      "text/html": [
       "<pre style=\"white-space:pre;overflow-x:auto;line-height:normal;font-family:Menlo,'DejaVu Sans Mono',consolas,'Courier New',monospace\"><span style=\"font-weight: bold\"> Total params: </span><span style=\"color: #00af00; text-decoration-color: #00af00\">0</span> (0.00 B)\n",
       "</pre>\n"
      ],
      "text/plain": [
       "\u001b[1m Total params: \u001b[0m\u001b[38;5;34m0\u001b[0m (0.00 B)\n"
      ]
     },
     "metadata": {},
     "output_type": "display_data"
    },
    {
     "data": {
      "text/html": [
       "<pre style=\"white-space:pre;overflow-x:auto;line-height:normal;font-family:Menlo,'DejaVu Sans Mono',consolas,'Courier New',monospace\"><span style=\"font-weight: bold\"> Trainable params: </span><span style=\"color: #00af00; text-decoration-color: #00af00\">0</span> (0.00 B)\n",
       "</pre>\n"
      ],
      "text/plain": [
       "\u001b[1m Trainable params: \u001b[0m\u001b[38;5;34m0\u001b[0m (0.00 B)\n"
      ]
     },
     "metadata": {},
     "output_type": "display_data"
    },
    {
     "data": {
      "text/html": [
       "<pre style=\"white-space:pre;overflow-x:auto;line-height:normal;font-family:Menlo,'DejaVu Sans Mono',consolas,'Courier New',monospace\"><span style=\"font-weight: bold\"> Non-trainable params: </span><span style=\"color: #00af00; text-decoration-color: #00af00\">0</span> (0.00 B)\n",
       "</pre>\n"
      ],
      "text/plain": [
       "\u001b[1m Non-trainable params: \u001b[0m\u001b[38;5;34m0\u001b[0m (0.00 B)\n"
      ]
     },
     "metadata": {},
     "output_type": "display_data"
    },
    {
     "name": "stdout",
     "output_type": "stream",
     "text": [
      "\n",
      "Training model for 10 epochs...\n",
      "Epoch 1/10\n",
      "\u001b[1m782/782\u001b[0m \u001b[32m━━━━━━━━━━━━━━━━━━━━\u001b[0m\u001b[37m\u001b[0m \u001b[1m148s\u001b[0m 185ms/step - accuracy: 0.5091 - loss: 0.7297 - val_accuracy: 0.5500 - val_loss: 0.6871\n",
      "Epoch 2/10\n",
      "\u001b[1m782/782\u001b[0m \u001b[32m━━━━━━━━━━━━━━━━━━━━\u001b[0m\u001b[37m\u001b[0m \u001b[1m144s\u001b[0m 184ms/step - accuracy: 0.5199 - loss: 0.6972 - val_accuracy: 0.5514 - val_loss: 0.6841\n",
      "Epoch 3/10\n",
      "\u001b[1m782/782\u001b[0m \u001b[32m━━━━━━━━━━━━━━━━━━━━\u001b[0m\u001b[37m\u001b[0m \u001b[1m144s\u001b[0m 184ms/step - accuracy: 0.5438 - loss: 0.6856 - val_accuracy: 0.5736 - val_loss: 0.6776\n",
      "Epoch 4/10\n",
      "\u001b[1m782/782\u001b[0m \u001b[32m━━━━━━━━━━━━━━━━━━━━\u001b[0m\u001b[37m\u001b[0m \u001b[1m143s\u001b[0m 183ms/step - accuracy: 0.5654 - loss: 0.6776 - val_accuracy: 0.5908 - val_loss: 0.6654\n",
      "Epoch 5/10\n",
      "\u001b[1m782/782\u001b[0m \u001b[32m━━━━━━━━━━━━━━━━━━━━\u001b[0m\u001b[37m\u001b[0m \u001b[1m142s\u001b[0m 182ms/step - accuracy: 0.5860 - loss: 0.6656 - val_accuracy: 0.5952 - val_loss: 0.6549\n",
      "Epoch 6/10\n",
      "\u001b[1m782/782\u001b[0m \u001b[32m━━━━━━━━━━━━━━━━━━━━\u001b[0m\u001b[37m\u001b[0m \u001b[1m143s\u001b[0m 182ms/step - accuracy: 0.6087 - loss: 0.6453 - val_accuracy: 0.5990 - val_loss: 0.6449\n",
      "Epoch 7/10\n",
      "\u001b[1m782/782\u001b[0m \u001b[32m━━━━━━━━━━━━━━━━━━━━\u001b[0m\u001b[37m\u001b[0m \u001b[1m142s\u001b[0m 181ms/step - accuracy: 0.6276 - loss: 0.6330 - val_accuracy: 0.6072 - val_loss: 0.6381\n",
      "Epoch 8/10\n",
      "\u001b[1m782/782\u001b[0m \u001b[32m━━━━━━━━━━━━━━━━━━━━\u001b[0m\u001b[37m\u001b[0m \u001b[1m144s\u001b[0m 184ms/step - accuracy: 0.6447 - loss: 0.6139 - val_accuracy: 0.6158 - val_loss: 0.6340\n",
      "Epoch 9/10\n",
      "\u001b[1m782/782\u001b[0m \u001b[32m━━━━━━━━━━━━━━━━━━━━\u001b[0m\u001b[37m\u001b[0m \u001b[1m142s\u001b[0m 181ms/step - accuracy: 0.6708 - loss: 0.5950 - val_accuracy: 0.6227 - val_loss: 0.6340\n",
      "Epoch 10/10\n",
      "\u001b[1m782/782\u001b[0m \u001b[32m━━━━━━━━━━━━━━━━━━━━\u001b[0m\u001b[37m\u001b[0m \u001b[1m142s\u001b[0m 182ms/step - accuracy: 0.6952 - loss: 0.5736 - val_accuracy: 0.6358 - val_loss: 0.6291\n",
      "\n",
      "Evaluating model...\n",
      "\u001b[1m782/782\u001b[0m \u001b[32m━━━━━━━━━━━━━━━━━━━━\u001b[0m\u001b[37m\u001b[0m \u001b[1m25s\u001b[0m 31ms/step\n",
      "Test Loss: 0.6291\n",
      "Test Accuracy: 0.6358\n",
      "\n",
      "Classification Report:\n",
      "              precision    recall  f1-score   support\n",
      "\n",
      "    Negative       0.64      0.64      0.64     12500\n",
      "    Positive       0.64      0.64      0.64     12500\n",
      "\n",
      "    accuracy                           0.64     25000\n",
      "   macro avg       0.64      0.64      0.64     25000\n",
      "weighted avg       0.64      0.64      0.64     25000\n",
      "\n"
     ]
    },
    {
     "data": {
      "image/png": "[encoded data removed]",
      "text/plain": [
       "<Figure size 1200x400 with 2 Axes>"
      ]
     },
     "metadata": {},
     "output_type": "display_data"
    },
    {
     "data": {
      "image/png": "[encoded data removed]",
      "text/plain": [
       "<Figure size 800x600 with 2 Axes>"
      ]
     },
     "metadata": {},
     "output_type": "display_data"
    },
    {
     "name": "stdout",
     "output_type": "stream",
     "text": [
      "\n",
      "==================================================\n",
      "SAMPLE PREDICTIONS\n",
      "==================================================\n",
      "\u001b[1m1/1\u001b[0m \u001b[32m━━━━━━━━━━━━━━━━━━━━\u001b[0m\u001b[37m\u001b[0m \u001b[1m0s\u001b[0m 50ms/step\n",
      "\n",
      "Sample 1:\n",
      "Review: <PAD> <PAD> <PAD> <PAD> <PAD> <PAD> <PAD> <PAD> <PAD> <PAD> <PAD> <PAD> <PAD> <PAD> <PAD> <PAD> <PAD> <PAD> <PAD> <PAD> <PAD> <PAD> <PAD> <PAD> <PAD> <PAD> <PAD> <PAD> <PAD> <PAD> <PAD> <PAD> <PAD> <P...\n",
      "True Label: Positive\n",
      "Predicted: Positive (Confidence: 0.542)\n",
      "Prediction Score: 0.542\n",
      "--------------------------------------------------\n",
      "\u001b[1m1/1\u001b[0m \u001b[32m━━━━━━━━━━━━━━━━━━━━\u001b[0m\u001b[37m\u001b[0m \u001b[1m0s\u001b[0m 47ms/step\n",
      "\n",
      "Sample 2:\n",
      "Review: <PAD> <PAD> <PAD> <PAD> <PAD> <PAD> <PAD> <PAD> <PAD> <PAD> <PAD> <PAD> <PAD> <PAD> <PAD> <PAD> <PAD> <PAD> <PAD> <PAD> <PAD> <PAD> <PAD> <PAD> <PAD> <PAD> <PAD> <PAD> <PAD> <PAD> <PAD> <PAD> <PAD> <P...\n",
      "True Label: Positive\n",
      "Predicted: Positive (Confidence: 0.955)\n",
      "Prediction Score: 0.955\n",
      "--------------------------------------------------\n",
      "\u001b[1m1/1\u001b[0m \u001b[32m━━━━━━━━━━━━━━━━━━━━\u001b[0m\u001b[37m\u001b[0m \u001b[1m0s\u001b[0m 47ms/step\n",
      "\n",
      "Sample 3:\n",
      "Review: br br however there are some character problems that i do count as a flaw the penguin has a <UNK> of circus performers who do his <UNK> but even though they're frequently on screen we never get to lea...\n",
      "True Label: Positive\n",
      "Predicted: Positive (Confidence: 0.593)\n",
      "Prediction Score: 0.593\n",
      "--------------------------------------------------\n",
      "\u001b[1m1/1\u001b[0m \u001b[32m━━━━━━━━━━━━━━━━━━━━\u001b[0m\u001b[37m\u001b[0m \u001b[1m0s\u001b[0m 47ms/step\n",
      "\n",
      "Sample 4:\n",
      "Review: <PAD> <PAD> <PAD> <PAD> <PAD> <PAD> <PAD> <PAD> <PAD> <PAD> <PAD> <PAD> <PAD> <PAD> <PAD> <PAD> <PAD> <PAD> <PAD> <PAD> <PAD> <PAD> <PAD> <PAD> <PAD> <PAD> <PAD> <PAD> <PAD> <PAD> <PAD> <PAD> <PAD> <P...\n",
      "True Label: Positive\n",
      "Predicted: Positive (Confidence: 0.739)\n",
      "Prediction Score: 0.739\n",
      "--------------------------------------------------\n",
      "\u001b[1m1/1\u001b[0m \u001b[32m━━━━━━━━━━━━━━━━━━━━\u001b[0m\u001b[37m\u001b[0m \u001b[1m0s\u001b[0m 47ms/step\n",
      "\n",
      "Sample 5:\n",
      "Review: <PAD> <PAD> <PAD> <PAD> <PAD> <PAD> <PAD> <PAD> <PAD> <PAD> <PAD> <PAD> <PAD> <PAD> <PAD> <PAD> <PAD> <PAD> <PAD> <PAD> <PAD> <PAD> <PAD> <PAD> <PAD> <PAD> <PAD> <PAD> <PAD> <PAD> <PAD> <PAD> <PAD> <P...\n",
      "True Label: Negative\n",
      "Predicted: Positive (Confidence: 0.607)\n",
      "Prediction Score: 0.607\n",
      "--------------------------------------------------\n",
      "\n",
      "==================================================\n",
      "CUSTOM REVIEW PREDICTIONS\n",
      "==================================================\n",
      "\u001b[1m1/1\u001b[0m \u001b[32m━━━━━━━━━━━━━━━━━━━━\u001b[0m\u001b[37m\u001b[0m \u001b[1m0s\u001b[0m 48ms/step\n",
      "\n",
      "Custom Review 1: This movie was absolutely fantastic! The acting was superb and the plot was engaging.\n",
      "Predicted: Negative (Confidence: 0.605, Score: 0.395)\n",
      "\u001b[1m1/1\u001b[0m \u001b[32m━━━━━━━━━━━━━━━━━━━━\u001b[0m\u001b[37m\u001b[0m \u001b[1m0s\u001b[0m 49ms/step\n",
      "\n",
      "Custom Review 2: Terrible movie. Boring plot and bad acting. Waste of time.\n",
      "Predicted: Negative (Confidence: 0.784, Score: 0.216)\n",
      "\u001b[1m1/1\u001b[0m \u001b[32m━━━━━━━━━━━━━━━━━━━━\u001b[0m\u001b[37m\u001b[0m \u001b[1m0s\u001b[0m 46ms/step\n",
      "\n",
      "Custom Review 3: The movie was okay, nothing special but not terrible either.\n",
      "Predicted: Negative (Confidence: 0.705, Score: 0.295)\n",
      "\u001b[1m1/1\u001b[0m \u001b[32m━━━━━━━━━━━━━━━━━━━━\u001b[0m\u001b[37m\u001b[0m \u001b[1m0s\u001b[0m 47ms/step\n",
      "\n",
      "Custom Review 4: Outstanding cinematography and brilliant performances by all actors. Highly recommended!\n",
      "Predicted: Positive (Confidence: 0.827, Score: 0.827)\n",
      "\u001b[1m1/1\u001b[0m \u001b[32m━━━━━━━━━━━━━━━━━━━━\u001b[0m\u001b[37m\u001b[0m \u001b[1m0s\u001b[0m 46ms/step\n",
      "\n",
      "Custom Review 5: Disappointing. Expected much more from this director. Very predictable storyline.\n",
      "Predicted: Negative (Confidence: 0.574, Score: 0.426)\n",
      "\n",
      "Training and evaluation completed!\n",
      "Model saved as 'imdb_rnn_sentiment_model.h5'\n",
      "\n",
      "==================================================\n",
      "FINAL MODEL SUMMARY\n",
      "==================================================\n",
      "Model Architecture: RNN with 64 units\n",
      "Vocabulary Size: 10000\n",
      "Max Sequence Length: 500\n",
      "Embedding Dimension: 128\n",
      "Training Epochs: 10\n",
      "Final Training Accuracy: 0.6943\n",
      "Final Validation Accuracy: 0.6358\n",
      "\u001b[1m782/782\u001b[0m \u001b[32m━━━━━━━━━━━━━━━━━━━━\u001b[0m\u001b[37m\u001b[0m \u001b[1m24s\u001b[0m 31ms/step\n",
      "Test Accuracy: 0.6358\n",
      "Positive predictions: 12484 (49.9%)\n",
      "Negative predictions: 12516 (50.1%)\n",
      "==================================================\n"
     ]
    }
   ],
   "source": [
    "def test_custom_reviews(model, word_index):\n",
    "    \"\"\"Test model on custom reviews\"\"\"\n",
    "    print(\"\\n\" + \"=\"*50)\n",
    "    print(\"CUSTOM REVIEW PREDICTIONS\")\n",
    "    print(\"=\"*50)\n",
    "\n",
    "    custom_reviews = [\n",
    "        \"This movie was absolutely fantastic! The acting was superb and the plot was engaging.\",\n",
    "        \"Terrible movie. Boring plot and bad acting. Waste of time.\",\n",
    "        \"The movie was okay, nothing special but not terrible either.\",\n",
    "        \"Outstanding cinematography and brilliant performances by all actors. Highly recommended!\",\n",
    "        \"Disappointing. Expected much more from this director. Very predictable storyline.\"\n",
    "    ]\n",
    "\n",
    "    for i, review in enumerate(custom_reviews):\n",
    "        sentiment, confidence, score = predict_sentiment(model, review, word_index)\n",
    "        print(f\"\\nCustom Review {i+1}: {review}\")\n",
    "        print(f\"Predicted: {sentiment} (Confidence: {confidence:.3f}, Score: {score:.3f})\")\n",
    "\n",
    "# Main execution\n",
    "print(\"IMDB Sentiment Analysis with RNN\")\n",
    "print(\"=\"*50)\n",
    "\n",
    "# Step 1: Load and preprocess data\n",
    "X_train, y_train, X_test, y_test, word_index, reverse_word_index = load_and_preprocess_data()\n",
    "\n",
    "# Step 2: Build the model\n",
    "model = build_rnn_model()\n",
    "\n",
    "# Step 3: Train the model\n",
    "history = train_model(model, X_train, y_train, X_test, y_test)\n",
    "\n",
    "# Step 4: Evaluate the model\n",
    "predictions, predicted_labels = evaluate_model(model, X_test, y_test)\n",
    "\n",
    "# Step 5: Plot training history\n",
    "plot_training_history(history)\n",
    "\n",
    "# Step 6: Plot confusion matrix\n",
    "plot_confusion_matrix(y_test, predicted_labels)\n",
    "\n",
    "# Step 7: Show sample predictions\n",
    "show_sample_predictions(model, X_test, y_test, reverse_word_index, word_index)\n",
    "\n",
    "# Step 8: Test custom reviews\n",
    "test_custom_reviews(model, word_index)\n",
    "\n",
    "print(\"\\nTraining and evaluation completed!\")\n",
    "\n",
    "# Optional: Save the model\n",
    "model.save('imdb_rnn_sentiment_model.h5')\n",
    "print(\"Model saved as 'imdb_rnn_sentiment_model.h5'\")\n",
    "\n",
    "# Display final model performance summary\n",
    "print(\"\\n\" + \"=\"*50)\n",
    "print(\"FINAL MODEL SUMMARY\")\n",
    "print(\"=\"*50)\n",
    "print(f\"Model Architecture: RNN with {RNN_UNITS} units\")\n",
    "print(f\"Vocabulary Size: {VOCAB_SIZE}\")\n",
    "print(f\"Max Sequence Length: {MAX_LENGTH}\")\n",
    "print(f\"Embedding Dimension: {EMBEDDING_DIM}\")\n",
    "print(f\"Training Epochs: {len(history.history['accuracy'])}\")\n",
    "print(f\"Final Training Accuracy: {history.history['accuracy'][-1]:.4f}\")\n",
    "print(f\"Final Validation Accuracy: {history.history['val_accuracy'][-1]:.4f}\")\n",
    "\n",
    "# Calculate and display some additional metrics\n",
    "final_predictions = model.predict(X_test)\n",
    "final_pred_labels = (final_predictions > 0.5).astype(int).flatten()\n",
    "accuracy = np.mean(final_pred_labels == y_test)\n",
    "print(f\"Test Accuracy: {accuracy:.4f}\")\n",
    "\n",
    "# Count positive and negative predictions\n",
    "pos_count = np.sum(final_pred_labels == 1)\n",
    "neg_count = np.sum(final_pred_labels == 0)\n",
    "print(f\"Positive predictions: {pos_count} ({pos_count/len(final_pred_labels)*100:.1f}%)\")\n",
    "print(f\"Negative predictions: {neg_count} ({neg_count/len(final_pred_labels)*100:.1f}%)\")\n",
    "print(\"=\"*50)"
   ]
  },
  {
   "cell_type": "code",
   "execution_count": null,
   "id": "87208dd4",
   "metadata": {
    "papermill": {
     "duration": 0.445243,
     "end_time": "2025-09-26T12:44:05.411858",
     "exception": false,
     "start_time": "2025-09-26T12:44:04.966615",
     "status": "completed"
    },
    "tags": []
   },
   "outputs": [],
   "source": []
  }
 ],
 "metadata": {
  "colab": {
   "provenance": []
  },
  "kaggle": {
   "accelerator": "none",
   "dataSources": [],
   "dockerImageVersionId": 31089,
   "isGpuEnabled": false,
   "isInternetEnabled": true,
   "language": "python",
   "sourceType": "notebook"
  },
  "kernelspec": {
   "display_name": "Python 3",
   "language": "python",
   "name": "python3"
  },
  "language_info": {
   "codemirror_mode": {
    "name": "ipython",
    "version": 3
   },
   "file_extension": ".py",
   "mimetype": "text/x-python",
   "name": "python",
   "nbconvert_exporter": "python",
   "pygments_lexer": "ipython3",
   "version": "3.11.13"
  },
  "papermill": {
   "default_parameters": {},
   "duration": 1546.046115,
   "end_time": "2025-09-26T12:44:09.113906",
   "environment_variables": {},
   "exception": null,
   "input_path": "__notebook__.ipynb",
   "output_path": "__notebook__.ipynb",
   "parameters": {},
   "start_time": "2025-09-26T12:18:23.067791",
   "version": "2.6.0"
  }
 },
 "nbformat": 4,
 "nbformat_minor": 5
}
